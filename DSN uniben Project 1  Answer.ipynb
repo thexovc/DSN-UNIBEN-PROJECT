{
 "cells": [
  {
   "cell_type": "code",
   "execution_count": 1,
   "id": "a2c35d77",
   "metadata": {},
   "outputs": [],
   "source": [
    "import random as rd\n",
    "\n",
    "Team_list = [{\"Name\": \"Chelsea\", \"Pts\": 0, \"GS\": 0, \"GC\": 0, \"GD\": 0},\n",
    "             {\"Name\": \"Manchester United\", \"Pts\": 0, \"GS\": 0, \"GC\": 0, \"GD\": 0},\n",
    "             {\"Name\": \"Manchester City\", \"Pts\": 0, \"GS\": 0, \"GC\": 0, \"GD\": 0},\n",
    "             {\"Name\": \"Liverpool\", \"Pts\": 0, \"GS\": 0, \"GC\": 0, \"GD\": 0}]\n",
    "\n",
    "def sort_teams(teams):   \n",
    "    '''\n",
    "    Info:\n",
    "    sort_teams = Function to sort the list of teams and results passed to it.\n",
    "    teams = List of teams and results passed into the function.\n",
    "    This function uses a bubble-sort algorithm to sort the list of teams according to the number of points (PTS) gotten.\n",
    "    If each team points (PTS) are the same, the function sorts by goal difference (GD).\n",
    "    '''\n",
    "    for j in range(len(teams)):\n",
    "        for i in range(len(teams)):\n",
    "            if i + 1 < len(teams):\n",
    "                if teams[i][\"Pts\"] < teams[i + 1][\"Pts\"]:\n",
    "                    teams[i], teams[i + 1] = teams[i + 1], teams[i]\n",
    "                elif teams[i][\"Pts\"] == teams[i + 1][\"Pts\"]:\n",
    "                    if teams[i][\"GD\"] < teams[i + 1][\"GD\"]:\n",
    "                        teams[i], teams[i + 1] = teams[i + 1], teams[i]\n",
    "    for i in range(len(Team_list)):\n",
    "        gs1 = rd.randint(0,10)\n",
    "        gs2 = 0\n",
    "        Team_list[i]['GS'] += rd.randint(0,7)\n",
    "\n",
    "        for k in range(len(Team_list)):\n",
    "            if(k != i):\n",
    "                gs2 = rd.randint(0,10)\n",
    "                Team_list[k]['GS'] += rd.randint(0,7)\n",
    "            if(gs1 > gs2):\n",
    "                Team_list[i]['Pts'] += 3\n",
    "                Team_list[k]['GC'] -= gs1 - gs2\n",
    "            if(gs1 < gs2):\n",
    "                Team_list[k]['Pts'] += 3\n",
    "                Team_list[i]['GC'] -= gs2 - gs1\n",
    "            else:\n",
    "                Team_list[i]['GD'] += 1\n",
    "                Team_list[k]['GD'] += 1\n",
    "\n",
    "        print(f\"{Team_list[i]['Name']} {gs1} vs {Team_list[k]['Name']} {gs2}\" )\n",
    "    \n"
   ]
  },
  {
   "cell_type": "code",
   "execution_count": 3,
   "id": "51c975b6",
   "metadata": {},
   "outputs": [
    {
     "name": "stdout",
     "output_type": "stream",
     "text": [
      "Liverpool 2 vs Manchester City 2\n",
      "Manchester United 8 vs Manchester City 1\n",
      "Chelsea 6 vs Manchester City 10\n",
      "Manchester City 6 vs Manchester City 9\n",
      "{'Name': 'Liverpool', 'Pts': 51, 'GS': 67, 'GC': -80, 'GD': 28}\n",
      "\n",
      "Manchester United 3 vs Manchester City 5\n",
      "Chelsea 7 vs Manchester City 3\n",
      "Liverpool 8 vs Manchester City 3\n",
      "Manchester City 4 vs Manchester City 1\n",
      "{'Name': 'Chelsea', 'Pts': 63, 'GS': 122, 'GC': -96, 'GD': 35}\n",
      "\n",
      "Liverpool 6 vs Manchester City 10\n",
      "Manchester United 5 vs Manchester City 5\n",
      "Chelsea 6 vs Manchester City 2\n",
      "Manchester City 10 vs Manchester City 1\n",
      "{'Name': 'Chelsea', 'Pts': 75, 'GS': 138, 'GC': -111, 'GD': 41}\n",
      "\n",
      "Liverpool 2 vs Manchester United 8\n",
      "Manchester City 1 vs Manchester United 6\n",
      "Chelsea 5 vs Manchester United 6\n",
      "Manchester United 5 vs Manchester United 6\n",
      "{'Name': 'Manchester United', 'Pts': 87, 'GS': 123, 'GC': -113, 'GD': 37}\n",
      "\n"
     ]
    }
   ],
   "source": [
    "for i in range(len(Team_list)):\n",
    "    sort_teams(Team_list)\n",
    "    print(Team_list[i])\n",
    "    print(\"\")\n"
   ]
  },
  {
   "cell_type": "code",
   "execution_count": null,
   "id": "c8da212d",
   "metadata": {},
   "outputs": [],
   "source": []
  },
  {
   "cell_type": "code",
   "execution_count": null,
   "id": "06f5b5d6",
   "metadata": {},
   "outputs": [],
   "source": []
  }
 ],
 "metadata": {
  "kernelspec": {
   "display_name": "Python 3 (ipykernel)",
   "language": "python",
   "name": "python3"
  },
  "language_info": {
   "codemirror_mode": {
    "name": "ipython",
    "version": 3
   },
   "file_extension": ".py",
   "mimetype": "text/x-python",
   "name": "python",
   "nbconvert_exporter": "python",
   "pygments_lexer": "ipython3",
   "version": "3.9.7"
  }
 },
 "nbformat": 4,
 "nbformat_minor": 5
}
